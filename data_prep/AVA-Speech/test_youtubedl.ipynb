{
 "cells": [
  {
   "cell_type": "code",
   "execution_count": 3,
   "id": "fcdbce7a-4978-4947-9926-64d46f284920",
   "metadata": {},
   "outputs": [],
   "source": [
    "import youtube_dl"
   ]
  },
  {
   "cell_type": "code",
   "execution_count": 4,
   "id": "3c662bb3-bef1-49c2-b850-59fb82bcdd40",
   "metadata": {},
   "outputs": [
    {
     "data": {
      "text/plain": [
       "youtube_dl.utils.DownloadError"
      ]
     },
     "execution_count": 4,
     "metadata": {},
     "output_type": "execute_result"
    }
   ],
   "source": [
    "youtube_dl.DownloadError"
   ]
  },
  {
   "cell_type": "code",
   "execution_count": 7,
   "id": "0ba629dc-71fe-4268-a7fa-10984a222bc1",
   "metadata": {},
   "outputs": [
    {
     "name": "stdout",
     "output_type": "stream",
     "text": [
      "8VZEwOCQ8bc\n",
      "BCiuXAuCKAU\n",
      "ZFQ3lF6yq_E\n",
      "zC5Fh2tTS1U\n",
      "S0tkhGJjwLA\n",
      "PNZQ2UJfyQE\n",
      "OGNnUvJq9RI\n",
      "KHHgQ_Pe4cI\n",
      "l2XO3tQk8lI\n",
      "B1MAUxpKaV8\n",
      "KVq6If6ozMY\n",
      "HymKCzQJbB8\n",
      "914yZXz-iRs\n",
      "U_WzY2k8IBM\n",
      "XV_FF3WC7kA\n",
      "WlgxRNCHQzw\n",
      "T-Fc9ctuNVI\n",
      "xJmRNZVDDCY\n",
      "0f39OWEqJ24\n",
      "Ksd1JQFHYWA\n",
      "tjqCzVjojCo\n",
      "_7oWZq_s_Sk\n",
      "uwW0ejeosmk\n",
      "UOyyTUX5Vo4\n",
      "iSlDMboCSao\n",
      "uPJPNPbWMFk\n",
      "cWYJHb25EVs\n",
      "J1jDc2rTJlg\n",
      "PmElx9ZVByw\n",
      "Vmef_8MY46w\n",
      "jqZpiHlJUig\n",
      "lDmLcWWBp1E\n",
      "NEQ7Wpf-EtI\n",
      "rJKeqfTlAeY\n",
      "sUVhd0YTKgw\n",
      "C25wkwAMB-w\n",
      "HV0H6oc4Kvs\n",
      "-FaXLcSFjUI\n",
      "26V9UzqSguo\n",
      "Gvp-cj3bmIY\n",
      "rXFlJbXyZyc\n",
      "P90hF2S1JzA\n",
      "WVde9pyaHg4\n",
      "c9pEMjPT16M\n",
      "1j20qq1JyX4\n",
      "t1LXrJOvPDg\n",
      "x-6CtPWVi6E\n",
      "TzaVHtLXOzY\n",
      "j5jmjhGBW44\n",
      "uNT6HrrnqPU\n",
      "Riu4ZKk4YdQ\n",
      "fpprSy6AzKk\n",
      "iK4Y-JKRRAc\n",
      "xp67EC-Hvwk\n",
      "P60OxWahxBQ\n",
      "20TAGRElvfE\n",
      "sADELCyj10I\n",
      "N0Dt9i9IUNg\n",
      "2DUITARAsWQ\n",
      "AYebXQ8eUkM\n",
      "UrsCy6qIGoo\n"
     ]
    }
   ],
   "source": [
    "with open('download.log') as f :\n",
    "    lines = f.readlines()\n",
    "    \n",
    "    for i in lines : \n",
    "        print(i.split()[1])"
   ]
  },
  {
   "cell_type": "code",
   "execution_count": 11,
   "id": "3f7fb2c9-c51e-4963-9950-6b098fcd7f28",
   "metadata": {},
   "outputs": [
    {
     "name": "stdout",
     "output_type": "stream",
     "text": [
      "qwer\n",
      "\n",
      "qwer\n",
      "\n",
      "qwer\n",
      "qwer\n"
     ]
    }
   ],
   "source": [
    "x = 'qwer\\n'\n",
    "print(x)\n",
    "print(x)\n",
    "y = x.split()[0]\n",
    "print(y)\n",
    "print(y)"
   ]
  },
  {
   "cell_type": "code",
   "execution_count": null,
   "id": "4874c795-eb4e-4062-9038-2efc27bd1b7f",
   "metadata": {},
   "outputs": [],
   "source": []
  }
 ],
 "metadata": {
  "kernelspec": {
   "display_name": "Python 3",
   "language": "python",
   "name": "python3"
  },
  "language_info": {
   "codemirror_mode": {
    "name": "ipython",
    "version": 3
   },
   "file_extension": ".py",
   "mimetype": "text/x-python",
   "name": "python",
   "nbconvert_exporter": "python",
   "pygments_lexer": "ipython3",
   "version": "3.8.0"
  }
 },
 "nbformat": 4,
 "nbformat_minor": 5
}

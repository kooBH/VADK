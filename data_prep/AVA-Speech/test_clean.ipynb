{
 "cells": [
  {
   "cell_type": "code",
   "execution_count": 1,
   "id": "f61bfe63-0536-43ad-a357-21001b1e8be5",
   "metadata": {},
   "outputs": [],
   "source": [
    "import pandas as pd"
   ]
  },
  {
   "cell_type": "code",
   "execution_count": 2,
   "id": "aa189302-83eb-43c7-b370-a4e0feb2a75a",
   "metadata": {},
   "outputs": [],
   "source": [
    "ava = pd.read_csv('ava_speech_labels_v1.csv',names=['id','start','end','label'])"
   ]
  },
  {
   "cell_type": "code",
   "execution_count": 3,
   "id": "e46b8995-5caf-45f7-a5d9-e287ca7c34da",
   "metadata": {},
   "outputs": [
    {
     "name": "stdout",
     "output_type": "stream",
     "text": [
      "            id   start     end              label\n",
      "0  5BDj0ow5hnA  900.00  905.67  SPEECH_WITH_NOISE\n",
      "1  5BDj0ow5hnA  905.67  907.40          NO_SPEECH\n",
      "2  5BDj0ow5hnA  907.40  908.08  SPEECH_WITH_NOISE\n",
      "3  5BDj0ow5hnA  908.08  908.76          NO_SPEECH\n",
      "4  5BDj0ow5hnA  908.76  910.15  SPEECH_WITH_NOISE\n"
     ]
    }
   ],
   "source": [
    "print(ava.head())"
   ]
  },
  {
   "cell_type": "code",
   "execution_count": 4,
   "id": "43659f4d-c457-40d1-ae16-c83167bbd77b",
   "metadata": {},
   "outputs": [],
   "source": [
    "sr = 16000"
   ]
  },
  {
   "cell_type": "code",
   "execution_count": 5,
   "id": "2e005710-ab3f-49af-ba11-93edbb088778",
   "metadata": {},
   "outputs": [
    {
     "data": {
      "text/plain": [
       "0       5BDj0ow5hnA\n",
       "137     JNb4nWexD0I\n",
       "487     plkJ45_-pMk\n",
       "813     oD_wxyTHJ2I\n",
       "1114    5YPjcdLbs5g\n",
       "Name: id, dtype: object"
      ]
     },
     "metadata": {},
     "output_type": "display_data"
    },
    {
     "data": {
      "text/plain": [
       "160"
      ]
     },
     "metadata": {},
     "output_type": "display_data"
    },
    {
     "data": {
      "text/plain": [
       "'JNb4nWexD0I'"
      ]
     },
     "metadata": {},
     "output_type": "display_data"
    }
   ],
   "source": [
    "list_id = ava['id'].drop_duplicates()\n",
    "display(list_id.head())\n",
    "display(len(list_id))\n",
    "display(list_id.iloc[1])"
   ]
  },
  {
   "cell_type": "code",
   "execution_count": 46,
   "id": "0bd10328-1aaa-4ff7-86fa-66c478cac672",
   "metadata": {},
   "outputs": [
    {
     "name": "stdout",
     "output_type": "stream",
     "text": [
      "['5BDj0ow5hnA' 'JNb4nWexD0I' 'plkJ45_-pMk' 'oD_wxyTHJ2I' '5YPjcdLbs5g'\n",
      " '8VZEwOCQ8bc' 'jgAwJ0RqmYg' '8aMv-ZGD4ic' 'oq_bufAhyl8' 'BCiuXAuCKAU'\n",
      " 'ZFQ3lF6yq_E' 'yn9WN9lsHRE' 'zC5Fh2tTS1U' 'UgZFdrNT6W0' 'o4xQ-BEa3Ss'\n",
      " 'rk8Xm0EAOWs' 'S0tkhGJjwLA' 'rUYsoIIE37A' 'HKjR70GCRPE' 'PNZQ2UJfyQE'\n",
      " 'OGNnUvJq9RI' 'KHHgQ_Pe4cI' '_mAfwH6i90E' 'l2XO3tQk8lI' 'B1MAUxpKaV8'\n",
      " 'KVq6If6ozMY' 'HymKCzQJbB8' 'IKdBLciu_-A' '914yZXz-iRs' 'J4bt4y9ShTA'\n",
      " '7YpF6DntOYw' '2fwni_Kjf2M' '-5KQ66BBWC4' 'U_WzY2k8IBM' 'XV_FF3WC7kA'\n",
      " 'kMy-6RtoOVU' 'Ov0za6Xb1LM' '5milLu-6bWI' '9F2voT6QWvQ' 'WwoTG3_OjUg'\n",
      " '2XeFK-DTSZk' '2PpxiG0WU18' '55Ihr6uVIDA' 'VsYPP2I0aUQ' 'WlgxRNCHQzw'\n",
      " 'T-Fc9ctuNVI' '9mLYmkonWZQ' 'LgBQlW6OTr0' '32HR3MnDZ8g' '2qQs3Y9OJX0'\n",
      " 'yo-Kg2YxlZs' 'BY3sZmvUp-0' 'xJmRNZVDDCY' 'skiZueh4lfY' '6d5u6FHvz7Q'\n",
      " 'K_SpqDJnlps' '0f39OWEqJ24' 'Ksd1JQFHYWA' 'Hi8QeP_VPu0' 'tjqCzVjojCo'\n",
      " '_7oWZq_s_Sk' 'uwW0ejeosmk' 'UOyyTUX5Vo4' 'OfMdakd4bHI' 'AN07xQokfiE'\n",
      " 'N1K2bEZLL_A' 'iSlDMboCSao' 'vfjywN5CN0Y' 'zR725veL-DI' 'uPJPNPbWMFk'\n",
      " 'a5mEmM6w_ks' 'cWYJHb25EVs' '-IELREHX_js' 'tNpZtigMc4g' 'U6m3kNFjdTs'\n",
      " 'J1jDc2rTJlg' 'QMwT7DFA5O4' 'N5UD8FGzDek' 'phVLLTMzmKk' '9Y_l9NsnYE0'\n",
      " 'PmElx9ZVByw' 'QCLQYnt3aMo' 'l-jxh8gpxuY' '4ZpjKfu6Cl8' 'Vmef_8MY46w'\n",
      " 'jqZpiHlJUig' 'lDmLcWWBp1E' 'NEQ7Wpf-EtI' 'rJKeqfTlAeY' '7nHkh4sP5Ks'\n",
      " 'ax3q-RkVIt4' 'sUVhd0YTKgw' 'uzPI7FcF79U' 'IzvOYVMltkI' 'C25wkwAMB-w'\n",
      " 'tt0t_a1EDCE' 'HV0H6oc4Kvs' 'tghXjom3120' '-FaXLcSFjUI' '26V9UzqSguo'\n",
      " 'Kb1fduj-jdY' 'Gvp-cj3bmIY' 'phrYEKv0rmw' 'Ma2hgTmveKQ' 'rXFlJbXyZyc'\n",
      " 'lWXhqIAvarw' 'P90hF2S1JzA' 'WVde9pyaHg4' 'c9pEMjPT16M' 'cKA-qeZuH_w'\n",
      " '1j20qq1JyX4' 't1LXrJOvPDg' 'g1wyIcLPbq0' 'xO4ABy2iOQA' 'F3dPH6Xqf5M'\n",
      " 'x-6CtPWVi6E' 'Di1MG6auDYo' 'rFgb2ECMcrY' 'E7JcKooKVsM' 'yMtGmGa8KZ0'\n",
      " '4gVsDd8PV9U' 'b5pRYl_djbs' 'bhlFavrh7WU' 'TzaVHtLXOzY' 'qx2vAO5ofmo'\n",
      " 'j5jmjhGBW44' 'gjdgj04FzR0' '8nO5FFbIAog' '_a9SWtcaNj8' 'Ekwy7wzLfjc'\n",
      " 'uNT6HrrnqPU' 'fNcxxBjEOgw' 'KWoSGtglCms' 'u1ltv6r14KQ' 'G5Yr20A5z_Q'\n",
      " 'y7ncweROe9U' 'Riu4ZKk4YdQ' '2bxKkUgcqpk' 'fpprSy6AzKk' 'iK4Y-JKRRAc'\n",
      " 'z-fsLpGHq6o' 'qrkff49p4E4' '053oq2xB3oU' 'xp67EC-Hvwk' 'CZ2NP8UsPuE'\n",
      " 'CrlfWnsS7ac' 'P60OxWahxBQ' 'Ag-pXiLrd48' 'fD6VkIRlIRI' '20TAGRElvfE'\n",
      " 'sADELCyj10I' 'N0Dt9i9IUNg' 'xmqSaQPzL1E' '9bK05eBt1GM' 'hHgg9WI8dTk'\n",
      " 'Db19rWN5BGo' '2DUITARAsWQ' 'AYebXQ8eUkM' 'O_NYCUhZ9zw' 'UrsCy6qIGoo']\n"
     ]
    }
   ],
   "source": [
    "t = list_id.values\n",
    "print(t)"
   ]
  },
  {
   "cell_type": "code",
   "execution_count": 32,
   "id": "51cf75a3-930e-4da9-bbb5-229ddcaa7d9f",
   "metadata": {},
   "outputs": [
    {
     "name": "stdout",
     "output_type": "stream",
     "text": [
      "5BDj0ow5hnA\n",
      "JNb4nWexD0I\n",
      "plkJ45_-pMk\n",
      "oD_wxyTHJ2I\n",
      "5YPjcdLbs5g\n"
     ]
    }
   ],
   "source": [
    "for row in list_id.head():\n",
    "    print(row)"
   ]
  },
  {
   "cell_type": "code",
   "execution_count": 29,
   "id": "ae017d78-94fb-4a50-97f2-027f9220b6af",
   "metadata": {},
   "outputs": [
    {
     "name": "stdout",
     "output_type": "stream",
     "text": [
      "id             5BDj0ow5hnA\n",
      "start                900.0\n",
      "end                 905.67\n",
      "label    SPEECH_WITH_NOISE\n",
      "Name: 0, dtype: object\n",
      "5BDj0ow5hnA\n",
      "id       5BDj0ow5hnA\n",
      "start         905.67\n",
      "end            907.4\n",
      "label      NO_SPEECH\n",
      "Name: 1, dtype: object\n",
      "5BDj0ow5hnA\n",
      "id             5BDj0ow5hnA\n",
      "start                907.4\n",
      "end                 908.08\n",
      "label    SPEECH_WITH_NOISE\n",
      "Name: 2, dtype: object\n",
      "5BDj0ow5hnA\n",
      "id       5BDj0ow5hnA\n",
      "start         908.08\n",
      "end           908.76\n",
      "label      NO_SPEECH\n",
      "Name: 3, dtype: object\n",
      "5BDj0ow5hnA\n",
      "id             5BDj0ow5hnA\n",
      "start               908.76\n",
      "end                 910.15\n",
      "label    SPEECH_WITH_NOISE\n",
      "Name: 4, dtype: object\n",
      "5BDj0ow5hnA\n"
     ]
    }
   ],
   "source": [
    "tmp = ava.loc[ava['id'] == '5BDj0ow5hnA']\n",
    "for row in tmp.head().iterrows():\n",
    "    print(row[1])\n",
    "    print(row[1]['id'])"
   ]
  },
  {
   "cell_type": "markdown",
   "id": "59db061d-a784-4fb3-b763-7554480e60cb",
   "metadata": {},
   "source": [
    "## for 문을 잘 엮어서 해야겠네 "
   ]
  },
  {
   "cell_type": "code",
   "execution_count": 51,
   "id": "1a2b551a-6097-43fe-85ba-ec143515cf85",
   "metadata": {},
   "outputs": [
    {
     "name": "stdout",
     "output_type": "stream",
     "text": [
      "1395200 ~ 1474399\n",
      "4800000 ~ 5078400\n",
      "5093599 ~ 5216000\n",
      "5231200 ~ 5381599\n",
      "5471200 ~ 5495520\n",
      "5526880 ~ 5564639\n",
      "5582560 ~ 5598560\n",
      "5620959 ~ 5635680\n",
      "5680000 ~ 5680480\n",
      "5813599 ~ 5870080\n",
      "5900160 ~ 5926880\n",
      "5953759 ~ 5996639\n",
      "6010880 ~ 6058880\n",
      "6080480 ~ 6172799\n",
      "6195520 ~ 6204799\n",
      "10560000 ~ 10576640\n",
      "11025759 ~ 11404160\n",
      "11582080 ~ 12077279\n",
      "12094720 ~ 12117599\n",
      "12129759 ~ 12236000\n",
      "12266720 ~ 12330880\n"
     ]
    }
   ],
   "source": [
    "tmp = ava.loc[ava['id'] == '5BDj0ow5hnA']\n",
    "\n",
    "\n",
    "for row in tmp.iterrows():\n",
    "    if row[1]['label'] == 'CLEAN_SPEECH' : \n",
    "        start_idx = int((row[1]['start']-900)*16000)\n",
    "        end_idx = int((row[1]['end']-900)*16000)\n",
    "        print(str(start_idx) + ' ~ ' + str(end_idx))"
   ]
  },
  {
   "cell_type": "markdown",
   "id": "08c251bd-700a-4420-8d7a-27afe78a6595",
   "metadata": {},
   "source": [
    "## concat"
   ]
  },
  {
   "cell_type": "code",
   "execution_count": 64,
   "id": "a40e8905-2dee-4a11-980a-120e86d96fcb",
   "metadata": {},
   "outputs": [
    {
     "name": "stdout",
     "output_type": "stream",
     "text": [
      "(14400000,)\n",
      "(79199,)\n",
      "(357599,)\n",
      "(480000,)\n",
      "(630399,)\n",
      "(654719,)\n",
      "(692478,)\n",
      "(708478,)\n",
      "(723199,)\n",
      "(723679,)\n",
      "(780160,)\n",
      "(806880,)\n",
      "(849760,)\n",
      "(897760,)\n",
      "(990079,)\n",
      "(999358,)\n",
      "(1015998,)\n",
      "(1394399,)\n",
      "(1889598,)\n",
      "(1912477,)\n",
      "(2018718,)\n",
      "(2082878,)\n"
     ]
    }
   ],
   "source": [
    "import numpy as np\n",
    "import librosa\n",
    "import soundfile as sf\n",
    "\n",
    "raw,_ = librosa.load('/home/kiosk/dnn2/AVTR/AVA-Speech-wav/5BDj0ow5hnA.wav',sr=16000)\n",
    "print(np.shape(raw))\n",
    "tmp = ava.loc[ava['id'] == '5BDj0ow5hnA']\n",
    "concat = None\n",
    "for row in tmp.iterrows():\n",
    "    if row[1]['label'] == 'CLEAN_SPEECH' : \n",
    "        start_idx = int((row[1]['start']-900)*16000)\n",
    "        end_idx = int((row[1]['end']-900)*16000)\n",
    "        if concat is None :\n",
    "            concat = raw[start_idx:end_idx]\n",
    "        else :\n",
    "            concat = np.concatenate((concat,raw[start_idx:end_idx]))\n",
    "        print(np.shape(concat))\n",
    "# normalize\n",
    "concat = concat / np.abs(np.max(concat))\n",
    "sf.write('concat.wav',concat,16000)"
   ]
  },
  {
   "cell_type": "code",
   "execution_count": null,
   "id": "4d226dab-59b4-4eec-a456-8752277535a8",
   "metadata": {},
   "outputs": [],
   "source": []
  }
 ],
 "metadata": {
  "kernelspec": {
   "display_name": "Python 3",
   "language": "python",
   "name": "python3"
  },
  "language_info": {
   "codemirror_mode": {
    "name": "ipython",
    "version": 3
   },
   "file_extension": ".py",
   "mimetype": "text/x-python",
   "name": "python",
   "nbconvert_exporter": "python",
   "pygments_lexer": "ipython3",
   "version": "3.8.0"
  }
 },
 "nbformat": 4,
 "nbformat_minor": 5
}

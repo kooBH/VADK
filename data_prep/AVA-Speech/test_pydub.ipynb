{
 "cells": [
  {
   "cell_type": "markdown",
   "id": "59727f00-4df5-45de-b032-98b71093ae69",
   "metadata": {},
   "source": []
  },
  {
   "cell_type": "code",
   "execution_count": 6,
   "id": "894d3e3e-809a-4cc2-bf15-4954d3f8c1d0",
   "metadata": {},
   "outputs": [],
   "source": [
    "from pydub import AudioSegment\n",
    "import numpy as np\n",
    "sr = 16000"
   ]
  },
  {
   "cell_type": "code",
   "execution_count": 7,
   "id": "1c4d032b-5a97-4f4c-96ac-0343af5bb689",
   "metadata": {},
   "outputs": [
    {
     "data": {
      "text/plain": [
       "<_io.BufferedRandom name='out.wav'>"
      ]
     },
     "execution_count": 7,
     "metadata": {},
     "output_type": "execute_result"
    }
   ],
   "source": [
    "sound = AudioSegment.from_mp3(\"/home/kiosk/dnn2/AVTR/AVA-Speech/Little Pilgrim's Progress.mp3\")\n",
    "sound = sound.set_frame_rate(sr)\n",
    "sound = sound.set_channels(1)\n",
    "\n",
    "# 15 min ~ 30 min\n",
    "sound_arr = sound.get_array_of_samples()\n",
    "\n",
    "#print(np.shape(sound_arr))\n",
    "\n",
    "sound_arr = sound_arr[15*60*sr:30*60*sr]\n",
    "\n",
    "sound = sound._spawn(sound_arr)\n",
    "\n",
    "sound.export('out.wav', format=\"wav\")"
   ]
  },
  {
   "cell_type": "code",
   "execution_count": 4,
   "id": "5c77150d-a7ac-48cd-8f3b-2d695ef25188",
   "metadata": {},
   "outputs": [
    {
     "name": "stdout",
     "output_type": "stream",
     "text": [
      "(35590432,)\n"
     ]
    }
   ],
   "source": [
    "\n"
   ]
  },
  {
   "cell_type": "code",
   "execution_count": null,
   "id": "ad40a05b-de7c-4f30-b143-318f09e4fb02",
   "metadata": {},
   "outputs": [],
   "source": []
  }
 ],
 "metadata": {
  "kernelspec": {
   "display_name": "Python 3",
   "language": "python",
   "name": "python3"
  },
  "language_info": {
   "codemirror_mode": {
    "name": "ipython",
    "version": 3
   },
   "file_extension": ".py",
   "mimetype": "text/x-python",
   "name": "python",
   "nbconvert_exporter": "python",
   "pygments_lexer": "ipython3",
   "version": "3.8.0"
  }
 },
 "nbformat": 4,
 "nbformat_minor": 5
}

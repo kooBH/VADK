{
 "cells": [
  {
   "cell_type": "code",
   "execution_count": 41,
   "id": "6aa58e03-c523-4f1e-8f31-dd5d8b895e37",
   "metadata": {},
   "outputs": [],
   "source": [
    "import torch\n",
    "import librosa\n",
    "import numpy as np\n",
    "import os,glob\n",
    "\n",
    "import IPython.display as ipd\n",
    "# ipd.Audio('audio/conga_groove.wav') # load a local WAV file\n",
    "# ipd.Audio(x, rate=sr) # load a NumPy array\n",
    "import matplotlib\n",
    "import matplotlib.pylab as plt\n",
    "from matplotlib import cm\n",
    "\n",
    "import soundfile as sf"
   ]
  },
  {
   "cell_type": "code",
   "execution_count": 16,
   "id": "cf4dce27-9dbf-4686-bd11-ea9443159ad4",
   "metadata": {},
   "outputs": [],
   "source": [
    "root = '/home/data/kbh/AVTR/sample/'\n",
    "root_output = './'"
   ]
  },
  {
   "cell_type": "code",
   "execution_count": 17,
   "id": "9e0138cd-e5b7-4da5-b022-695f0c2df510",
   "metadata": {},
   "outputs": [
    {
     "name": "stdout",
     "output_type": "stream",
     "text": [
      "10\n"
     ]
    }
   ],
   "source": [
    "list_clean    = [x for x in glob.glob(os.path.join(root,'clean','*.wav'))]\n",
    "list_hospital = [x for x in glob.glob(os.path.join(root,'hospital','*.wav'))]\n",
    "list_keyboard = [x for x in glob.glob(os.path.join(root,'keyboard','*.wav'))]\n",
    "list_noise    = [x for x in glob.glob(os.path.join(root,'background','*.wav'))]\n",
    "\n",
    "print(len(list_clean))"
   ]
  },
  {
   "cell_type": "code",
   "execution_count": 18,
   "id": "234501cb-718a-4830-8562-196e17a82b18",
   "metadata": {},
   "outputs": [],
   "source": [
    "SNR_keyboard = 5.0\n",
    "SNR_hospital = 5.0\n",
    "SNR_noise    = 5.0\n",
    "\n",
    "sr      = 16000\n",
    "n_fft   = 640\n",
    "n_shift = 160\n",
    "n_mels  = 32\n",
    "\n",
    "sec_keyboard = 5.0\n",
    "sec_hospital = 4.0\n",
    "sec_clean    = 5.0\n",
    "sec_noise    = 10.0"
   ]
  },
  {
   "cell_type": "code",
   "execution_count": 53,
   "id": "811d1f13-bcf2-4bcb-9edb-2dbe9526220f",
   "metadata": {},
   "outputs": [
    {
     "name": "stdout",
     "output_type": "stream",
     "text": [
      "torch.Size([32, 32])\n",
      "torch.Size([32])\n",
      "torch.Size([32, 32])\n",
      "torch.Size([32])\n",
      "torch.Size([32, 32])\n",
      "torch.Size([32])\n",
      "torch.Size([32, 32])\n",
      "torch.Size([32])\n",
      "torch.Size([32, 32])\n",
      "torch.Size([32])\n",
      "torch.Size([32, 32])\n",
      "torch.Size([32])\n",
      "torch.Size([32, 32])\n",
      "torch.Size([32])\n",
      "torch.Size([32, 32])\n",
      "torch.Size([32])\n",
      "torch.Size([32, 32])\n",
      "torch.Size([32])\n",
      "torch.Size([32, 32])\n",
      "torch.Size([32])\n"
     ]
    }
   ],
   "source": [
    "mel_basis = librosa.filters.mel(sr=sr, n_fft=n_fft, n_mels=n_mels)\n",
    "\n",
    "for idx in range(len(list_clean)) : \n",
    "#for idx in [0]:\n",
    "    raw_keyboard,_  = librosa.load(list_keyboard[idx],sr=sr)\n",
    "    raw_hospital,_ = librosa.load(list_hospital[idx],sr=sr)\n",
    "    raw_clean,_     = librosa.load(list_clean[idx],sr=sr)\n",
    "    raw_noise,_     = librosa.load(list_noise[np.random.randint(4)],sr=sr)\n",
    "    \n",
    "    # Indexing\n",
    "    n_sample_keyboard = int(sec_keyboard * sr)\n",
    "    n_sample_hospital = int(sec_hospital * sr)\n",
    "    n_sample_clean = int(sec_clean * sr)\n",
    "    n_sample_noise = int(sec_noise * sr)\n",
    "\n",
    "    idx_keyboard = np.random.randint(len(raw_keyboard) - n_sample_keyboard)\n",
    "    idx_hospital = np.random.randint(len(raw_hospital) - n_sample_hospital)\n",
    "    idx_clean    = np.random.randint(len(raw_clean)    - n_sample_clean)\n",
    "    idx_noise    = np.random.randint(len(raw_noise)    - n_sample_noise)\n",
    "\n",
    "    sample_keyboard = raw_keyboard[idx_keyboard : idx_keyboard + n_sample_keyboard]\n",
    "    sample_hospital = raw_hospital[idx_hospital : idx_hospital + n_sample_hospital]\n",
    "    sample_clean    = raw_clean   [idx_clean    : idx_clean    + n_sample_clean]\n",
    "    sample_noise    = raw_noise   [idx_noise    : idx_noise    + n_sample_noise]\n",
    "    \n",
    "    norm_keyboard = sample_keyboard/np.max(np.abs(sample_keyboard))\n",
    "    norm_hospital = sample_hospital/np.max(np.abs(sample_hospital))\n",
    "    norm_clean    = sample_clean/np.max(np.abs(sample_clean))\n",
    "    norm_noise    = sample_noise/np.max(np.abs(sample_noise))\n",
    "    \n",
    "    ## Mixing\n",
    "    # SNR\n",
    "    ratio_keyboard = np.power(10,SNR_keyboard/10)\n",
    "    ratio_hospital = np.power(10,SNR_hospital/10)\n",
    "    ratio_noise = np.power(10,SNR_noise/10)\n",
    "    \n",
    "    mean_energy_keyboard = np.sqrt(np.sum(np.power(norm_keyboard,2)))/n_sample_keyboard\n",
    "    mean_energy_hospital = np.sqrt(np.sum(np.power(norm_hospital,2)))/n_sample_hospital\n",
    "    mean_energy_clean = np.sqrt(np.sum(np.power(norm_clean,2)))/n_sample_clean\n",
    "    mean_energy_noise = np.sqrt(np.sum(np.power(norm_noise,2)))/n_sample_noise\n",
    "\n",
    "    energy_normal_keyboard = np.sqrt(mean_energy_clean)/np.sqrt(mean_energy_keyboard)\n",
    "    energy_normal_hospital = np.sqrt(mean_energy_clean)/np.sqrt(mean_energy_hospital)\n",
    "    energy_normal_noise = np.sqrt(mean_energy_clean)/np.sqrt(mean_energy_noise)\n",
    "\n",
    "    weight_keyboard = energy_normal_keyboard/np.sqrt(ratio_keyboard)\n",
    "    weight_hospital = energy_normal_hospital/np.sqrt(ratio_hospital)\n",
    "    weight_noise    = energy_normal_noise/np.sqrt(ratio_noise)\n",
    "\n",
    "    mix_keyboard = norm_keyboard * weight_keyboard\n",
    "    mix_hospital = norm_hospital * weight_hospital\n",
    "    mix_noise = norm_noise * weight_noise\n",
    "    # Mix\n",
    "    offset_keyboard = np.random.randint(n_sample_noise - n_sample_keyboard)\n",
    "    offset_hospital = np.random.randint(n_sample_noise - n_sample_hospital)\n",
    "    offset_clean    = np.random.randint(n_sample_noise - n_sample_clean)\n",
    "\n",
    "    mixed                                                       = mix_noise\n",
    "    mixed[offset_keyboard:offset_keyboard + n_sample_keyboard] += mix_keyboard\n",
    "    mixed[offset_hospital:offset_hospital + n_sample_hospital] += mix_hospital\n",
    "    mixed[offset_clean:offset_clean       + n_sample_clean]    += norm_clean\n",
    "    mixed = mixed/np.max(np.abs(mixed))\n",
    "    \n",
    "    #sf.write(root_output + '/mix.wav',mixed,16000)\n",
    "    \n",
    "     # Wav to Mel\n",
    "    spec = librosa.stft(mixed,window='hann',n_fft=n_fft,hop_length=n_shift, win_length=None,center=False)\n",
    "    \n",
    "    mel = np.matmul(mel_basis,np.abs(spec))\n",
    "    pt = torch.from_numpy(mel)\n",
    "    \n",
    "    # Label (round on edge)\n",
    "    label = torch.zeros(int(np.ceil(n_sample_noise/n_shift)) + 1-int(n_fft/n_shift) )\n",
    "    label[int(np.round(offset_clean/n_shift)) :int(np.round((offset_clean+n_sample_clean)/n_shift)) ] = 1\n",
    "\n",
    "    # save\n",
    "    #print(pt.shape)\n",
    "    offset = 100\n",
    "    \n",
    "    data = {\"mel\":pt[:,offset:offset+32],\"label\":label[offset:offset+32]}\n",
    "    torch.save(data,os.path.join(root_output,str(idx)+'.pt'))\n",
    "    \n",
    "    print(data[\"mel\"].shape)\n",
    "    print(data[\"label\"].shape)\n",
    "    #print(data)\n",
    "    \n",
    "    #im = plt.imshow(data[\"mel\"][:,:], cmap=cm.jet, aspect='auto')\n",
    "    #plt.colorbar(im)\n",
    "    #plt.clim(0.1,0.3)\n",
    "    #plt.show()\n"
   ]
  },
  {
   "cell_type": "markdown",
   "id": "0adda50e-6c12-4ea8-9f96-da22dc460d73",
   "metadata": {},
   "source": [
    "1 sample 길이는 = 1초 / 샘플레이트  \n",
    "0.010 초는?"
   ]
  },
  {
   "cell_type": "markdown",
   "id": "f2f3311b-9149-4aad-acf5-58e1675f80ad",
   "metadata": {},
   "source": [
    "몇 샘플?"
   ]
  },
  {
   "cell_type": "markdown",
   "id": "eca15767-c833-42d2-9762-0a84febe5c09",
   "metadata": {},
   "source": [
    "1 샘플이 0.0000625 초  \n",
    "=> shift 160 frame 640 "
   ]
  },
  {
   "cell_type": "markdown",
   "id": "8c993371-ac32-40d2-ade5-3b1aed9c2699",
   "metadata": {},
   "source": [
    "0 1 2 3 4 5 6 7 8 9 \n",
    "0 0 0 1 1 0 0 0 0 0 => 1\n",
    "\n"
   ]
  },
  {
   "cell_type": "code",
   "execution_count": 55,
   "id": "bc7d17e2-35f1-4a19-a00e-9bfbd104e3b6",
   "metadata": {},
   "outputs": [
    {
     "name": "stdout",
     "output_type": "stream",
     "text": [
      "0\n"
     ]
    }
   ],
   "source": [
    "labels = [0, 1, 0, 0, 1 , 0]\n",
    "labels = [0, 0, 0, 0, 0 , 0]\n",
    "label = False\n",
    "for i in labels :\n",
    "    label = label or i\n",
    "    \n",
    "print(label)"
   ]
  },
  {
   "cell_type": "code",
   "execution_count": 56,
   "id": "52d5a053-5dd3-434a-ac1c-6d06fb3b45f8",
   "metadata": {},
   "outputs": [
    {
     "data": {
      "text/plain": [
       "False"
      ]
     },
     "execution_count": 56,
     "metadata": {},
     "output_type": "execute_result"
    }
   ],
   "source": [
    "x = '123$5435.wav'\n",
    "'@' in x"
   ]
  },
  {
   "cell_type": "code",
   "execution_count": 57,
   "id": "2cb882d1-2dd1-4f03-874b-2dacc20edbaa",
   "metadata": {},
   "outputs": [
    {
     "data": {
      "text/plain": [
       "True"
      ]
     },
     "execution_count": 57,
     "metadata": {},
     "output_type": "execute_result"
    }
   ],
   "source": [
    "x = '123$5435qwe@@.wav'\n",
    "'@' in x"
   ]
  },
  {
   "cell_type": "code",
   "execution_count": 66,
   "id": "44fdfeef-1230-4e14-babb-ea9546a6c299",
   "metadata": {},
   "outputs": [
    {
     "data": {
      "text/plain": [
       "array([2.92696859])"
      ]
     },
     "execution_count": 66,
     "metadata": {},
     "output_type": "execute_result"
    }
   ],
   "source": [
    "np.random.rand(1)*5"
   ]
  },
  {
   "cell_type": "code",
   "execution_count": null,
   "id": "a2da8785-ac99-45fd-864e-c9437a5373a7",
   "metadata": {},
   "outputs": [],
   "source": []
  }
 ],
 "metadata": {
  "kernelspec": {
   "display_name": "Python 3",
   "language": "python",
   "name": "python3"
  },
  "language_info": {
   "codemirror_mode": {
    "name": "ipython",
    "version": 3
   },
   "file_extension": ".py",
   "mimetype": "text/x-python",
   "name": "python",
   "nbconvert_exporter": "python",
   "pygments_lexer": "ipython3",
   "version": "3.8.0"
  }
 },
 "nbformat": 4,
 "nbformat_minor": 5
}

{
 "cells": [
  {
   "cell_type": "code",
   "execution_count": 84,
   "id": "df2dfe76-057d-4806-a81c-c41782f9c602",
   "metadata": {},
   "outputs": [],
   "source": [
    "import pandas as pd\n",
    "import numpy as np\n",
    "import librosa as rosa\n",
    "import soundfile as sf"
   ]
  },
  {
   "cell_type": "code",
   "execution_count": 85,
   "id": "e6af5179-b991-45f2-bfa6-68dabc965cf7",
   "metadata": {},
   "outputs": [],
   "source": [
    "file_name = 'unbalanced_keyboard.csv'"
   ]
  },
  {
   "cell_type": "code",
   "execution_count": 86,
   "id": "9a998d3a-53fc-48c8-b4e2-9a06371c010f",
   "metadata": {},
   "outputs": [],
   "source": [
    "data = pd.read_csv(file_name,names=['id','class1','class2','class3'])"
   ]
  },
  {
   "cell_type": "code",
   "execution_count": 87,
   "id": "37b1d845-f034-4647-8f08-67b4e8807d93",
   "metadata": {},
   "outputs": [
    {
     "data": {
      "text/html": [
       "<div>\n",
       "<style scoped>\n",
       "    .dataframe tbody tr th:only-of-type {\n",
       "        vertical-align: middle;\n",
       "    }\n",
       "\n",
       "    .dataframe tbody tr th {\n",
       "        vertical-align: top;\n",
       "    }\n",
       "\n",
       "    .dataframe thead th {\n",
       "        text-align: right;\n",
       "    }\n",
       "</style>\n",
       "<table border=\"1\" class=\"dataframe\">\n",
       "  <thead>\n",
       "    <tr style=\"text-align: right;\">\n",
       "      <th></th>\n",
       "      <th>id</th>\n",
       "      <th>class1</th>\n",
       "      <th>class2</th>\n",
       "      <th>class3</th>\n",
       "    </tr>\n",
       "  </thead>\n",
       "  <tbody>\n",
       "    <tr>\n",
       "      <th>0</th>\n",
       "      <td>Y-6AOy8GAMpM_60_70</td>\n",
       "      <td>Computer keyboard</td>\n",
       "      <td>Typing</td>\n",
       "      <td>NaN</td>\n",
       "    </tr>\n",
       "    <tr>\n",
       "      <th>1</th>\n",
       "      <td>Y-7OvXNt9sjE_50_60</td>\n",
       "      <td>Computer keyboard</td>\n",
       "      <td>Typing</td>\n",
       "      <td>NaN</td>\n",
       "    </tr>\n",
       "    <tr>\n",
       "      <th>2</th>\n",
       "      <td>Y-8CwWdltmxM_30_40</td>\n",
       "      <td>Computer keyboard</td>\n",
       "      <td>Typing</td>\n",
       "      <td>NaN</td>\n",
       "    </tr>\n",
       "    <tr>\n",
       "      <th>3</th>\n",
       "      <td>Y-8YnBKXbV3Q_230_240</td>\n",
       "      <td>Computer keyboard</td>\n",
       "      <td>Music</td>\n",
       "      <td>NaN</td>\n",
       "    </tr>\n",
       "    <tr>\n",
       "      <th>4</th>\n",
       "      <td>Y-C3O23xBX4c_260_270</td>\n",
       "      <td>Computer keyboard</td>\n",
       "      <td>Typing</td>\n",
       "      <td>Speech</td>\n",
       "    </tr>\n",
       "  </tbody>\n",
       "</table>\n",
       "</div>"
      ],
      "text/plain": [
       "                     id             class1  class2  class3\n",
       "0    Y-6AOy8GAMpM_60_70  Computer keyboard  Typing     NaN\n",
       "1    Y-7OvXNt9sjE_50_60  Computer keyboard  Typing     NaN\n",
       "2    Y-8CwWdltmxM_30_40  Computer keyboard  Typing     NaN\n",
       "3  Y-8YnBKXbV3Q_230_240  Computer keyboard   Music     NaN\n",
       "4  Y-C3O23xBX4c_260_270  Computer keyboard  Typing  Speech"
      ]
     },
     "metadata": {},
     "output_type": "display_data"
    },
    {
     "data": {
      "text/html": [
       "<div>\n",
       "<style scoped>\n",
       "    .dataframe tbody tr th:only-of-type {\n",
       "        vertical-align: middle;\n",
       "    }\n",
       "\n",
       "    .dataframe tbody tr th {\n",
       "        vertical-align: top;\n",
       "    }\n",
       "\n",
       "    .dataframe thead th {\n",
       "        text-align: right;\n",
       "    }\n",
       "</style>\n",
       "<table border=\"1\" class=\"dataframe\">\n",
       "  <thead>\n",
       "    <tr style=\"text-align: right;\">\n",
       "      <th></th>\n",
       "      <th>id</th>\n",
       "      <th>class1</th>\n",
       "      <th>class2</th>\n",
       "      <th>class3</th>\n",
       "    </tr>\n",
       "  </thead>\n",
       "  <tbody>\n",
       "    <tr>\n",
       "      <th>1917</th>\n",
       "      <td>Yzl3OnWjr3Y4_140_150</td>\n",
       "      <td>Computer keyboard</td>\n",
       "      <td>Typing</td>\n",
       "      <td>Speech</td>\n",
       "    </tr>\n",
       "    <tr>\n",
       "      <th>1918</th>\n",
       "      <td>Yzo8PdcFsLeg_0_10</td>\n",
       "      <td>Computer keyboard</td>\n",
       "      <td>Typing</td>\n",
       "      <td>NaN</td>\n",
       "    </tr>\n",
       "    <tr>\n",
       "      <th>1919</th>\n",
       "      <td>Yzp_fMUGoCCE_30_40</td>\n",
       "      <td>Computer keyboard</td>\n",
       "      <td>NaN</td>\n",
       "      <td>NaN</td>\n",
       "    </tr>\n",
       "    <tr>\n",
       "      <th>1920</th>\n",
       "      <td>Yzr6lVRyyax0_250_260</td>\n",
       "      <td>Computer keyboard</td>\n",
       "      <td>Speech</td>\n",
       "      <td>NaN</td>\n",
       "    </tr>\n",
       "    <tr>\n",
       "      <th>1921</th>\n",
       "      <td>YztI9tn8Lfnk_9_19</td>\n",
       "      <td>Computer keyboard</td>\n",
       "      <td>Typing</td>\n",
       "      <td>NaN</td>\n",
       "    </tr>\n",
       "  </tbody>\n",
       "</table>\n",
       "</div>"
      ],
      "text/plain": [
       "                        id             class1  class2  class3\n",
       "1917  Yzl3OnWjr3Y4_140_150  Computer keyboard  Typing  Speech\n",
       "1918     Yzo8PdcFsLeg_0_10  Computer keyboard  Typing     NaN\n",
       "1919    Yzp_fMUGoCCE_30_40  Computer keyboard     NaN     NaN\n",
       "1920  Yzr6lVRyyax0_250_260  Computer keyboard  Speech     NaN\n",
       "1921     YztI9tn8Lfnk_9_19  Computer keyboard  Typing     NaN"
      ]
     },
     "metadata": {},
     "output_type": "display_data"
    },
    {
     "data": {
      "text/html": [
       "<div>\n",
       "<style scoped>\n",
       "    .dataframe tbody tr th:only-of-type {\n",
       "        vertical-align: middle;\n",
       "    }\n",
       "\n",
       "    .dataframe tbody tr th {\n",
       "        vertical-align: top;\n",
       "    }\n",
       "\n",
       "    .dataframe thead th {\n",
       "        text-align: right;\n",
       "    }\n",
       "</style>\n",
       "<table border=\"1\" class=\"dataframe\">\n",
       "  <thead>\n",
       "    <tr style=\"text-align: right;\">\n",
       "      <th></th>\n",
       "      <th>id</th>\n",
       "      <th>class1</th>\n",
       "      <th>class2</th>\n",
       "      <th>class3</th>\n",
       "    </tr>\n",
       "  </thead>\n",
       "  <tbody>\n",
       "    <tr>\n",
       "      <th>0</th>\n",
       "      <td>Y-6AOy8GAMpM_60_70</td>\n",
       "      <td>Computer keyboard</td>\n",
       "      <td>Typing</td>\n",
       "      <td>NaN</td>\n",
       "    </tr>\n",
       "    <tr>\n",
       "      <th>1</th>\n",
       "      <td>Y-7OvXNt9sjE_50_60</td>\n",
       "      <td>Computer keyboard</td>\n",
       "      <td>Typing</td>\n",
       "      <td>NaN</td>\n",
       "    </tr>\n",
       "    <tr>\n",
       "      <th>2</th>\n",
       "      <td>Y-8CwWdltmxM_30_40</td>\n",
       "      <td>Computer keyboard</td>\n",
       "      <td>Typing</td>\n",
       "      <td>NaN</td>\n",
       "    </tr>\n",
       "    <tr>\n",
       "      <th>3</th>\n",
       "      <td>Y-8YnBKXbV3Q_230_240</td>\n",
       "      <td>Computer keyboard</td>\n",
       "      <td>Music</td>\n",
       "      <td>NaN</td>\n",
       "    </tr>\n",
       "    <tr>\n",
       "      <th>4</th>\n",
       "      <td>Y-C3O23xBX4c_260_270</td>\n",
       "      <td>Computer keyboard</td>\n",
       "      <td>Typing</td>\n",
       "      <td>Speech</td>\n",
       "    </tr>\n",
       "    <tr>\n",
       "      <th>5</th>\n",
       "      <td>Y-CYano2F4Qw_210_220</td>\n",
       "      <td>Computer keyboard</td>\n",
       "      <td>Typing</td>\n",
       "      <td>NaN</td>\n",
       "    </tr>\n",
       "    <tr>\n",
       "      <th>6</th>\n",
       "      <td>Y-E_kI8jY2_0_30_40</td>\n",
       "      <td>Computer keyboard</td>\n",
       "      <td>Typing</td>\n",
       "      <td>NaN</td>\n",
       "    </tr>\n",
       "    <tr>\n",
       "      <th>7</th>\n",
       "      <td>Y-ErvbxxipEs_120_130</td>\n",
       "      <td>Computer keyboard</td>\n",
       "      <td>Speech</td>\n",
       "      <td>NaN</td>\n",
       "    </tr>\n",
       "    <tr>\n",
       "      <th>8</th>\n",
       "      <td>Y-Gz3fJ1ZDCQ_0_10</td>\n",
       "      <td>Computer keyboard</td>\n",
       "      <td>Typing</td>\n",
       "      <td>Inside</td>\n",
       "    </tr>\n",
       "    <tr>\n",
       "      <th>9</th>\n",
       "      <td>Y-HeRZSisQLY_30_40</td>\n",
       "      <td>Computer keyboard</td>\n",
       "      <td>Typing</td>\n",
       "      <td>NaN</td>\n",
       "    </tr>\n",
       "    <tr>\n",
       "      <th>10</th>\n",
       "      <td>Y-LR6jZzVFHs_50_60</td>\n",
       "      <td>Computer keyboard</td>\n",
       "      <td>Typing</td>\n",
       "      <td>NaN</td>\n",
       "    </tr>\n",
       "    <tr>\n",
       "      <th>11</th>\n",
       "      <td>Y-N985spfu2I_520_530</td>\n",
       "      <td>Computer keyboard</td>\n",
       "      <td>Typing</td>\n",
       "      <td>Speech</td>\n",
       "    </tr>\n",
       "    <tr>\n",
       "      <th>12</th>\n",
       "      <td>Y-NxqVRP5zf8_580_590</td>\n",
       "      <td>Computer keyboard</td>\n",
       "      <td>Typing</td>\n",
       "      <td>Speech</td>\n",
       "    </tr>\n",
       "    <tr>\n",
       "      <th>13</th>\n",
       "      <td>Y-Q2luSN2Xj4_490_500</td>\n",
       "      <td>Computer keyboard</td>\n",
       "      <td>Typing</td>\n",
       "      <td>NaN</td>\n",
       "    </tr>\n",
       "    <tr>\n",
       "      <th>14</th>\n",
       "      <td>Y-S6D9Slv13A_10_20</td>\n",
       "      <td>Computer keyboard</td>\n",
       "      <td>Speech</td>\n",
       "      <td>NaN</td>\n",
       "    </tr>\n",
       "    <tr>\n",
       "      <th>15</th>\n",
       "      <td>Y-VD6if3BpnE_30_40</td>\n",
       "      <td>Computer keyboard</td>\n",
       "      <td>Typing</td>\n",
       "      <td>Speech</td>\n",
       "    </tr>\n",
       "    <tr>\n",
       "      <th>16</th>\n",
       "      <td>Y-WNELSjjnJc_450_460</td>\n",
       "      <td>Computer keyboard</td>\n",
       "      <td>Typing</td>\n",
       "      <td>NaN</td>\n",
       "    </tr>\n",
       "    <tr>\n",
       "      <th>17</th>\n",
       "      <td>Y-Y2mUYakV6U_30_40</td>\n",
       "      <td>Computer keyboard</td>\n",
       "      <td>Typing</td>\n",
       "      <td>NaN</td>\n",
       "    </tr>\n",
       "    <tr>\n",
       "      <th>18</th>\n",
       "      <td>Y-ZJ_0JGR28E_270_280</td>\n",
       "      <td>Computer keyboard</td>\n",
       "      <td>Typing</td>\n",
       "      <td>NaN</td>\n",
       "    </tr>\n",
       "    <tr>\n",
       "      <th>19</th>\n",
       "      <td>Y-Zj5r422dHw_20_30</td>\n",
       "      <td>Computer keyboard</td>\n",
       "      <td>Typing</td>\n",
       "      <td>NaN</td>\n",
       "    </tr>\n",
       "  </tbody>\n",
       "</table>\n",
       "</div>"
      ],
      "text/plain": [
       "                      id             class1  class2  class3\n",
       "0     Y-6AOy8GAMpM_60_70  Computer keyboard  Typing     NaN\n",
       "1     Y-7OvXNt9sjE_50_60  Computer keyboard  Typing     NaN\n",
       "2     Y-8CwWdltmxM_30_40  Computer keyboard  Typing     NaN\n",
       "3   Y-8YnBKXbV3Q_230_240  Computer keyboard   Music     NaN\n",
       "4   Y-C3O23xBX4c_260_270  Computer keyboard  Typing  Speech\n",
       "5   Y-CYano2F4Qw_210_220  Computer keyboard  Typing     NaN\n",
       "6     Y-E_kI8jY2_0_30_40  Computer keyboard  Typing     NaN\n",
       "7   Y-ErvbxxipEs_120_130  Computer keyboard  Speech     NaN\n",
       "8      Y-Gz3fJ1ZDCQ_0_10  Computer keyboard  Typing  Inside\n",
       "9     Y-HeRZSisQLY_30_40  Computer keyboard  Typing     NaN\n",
       "10    Y-LR6jZzVFHs_50_60  Computer keyboard  Typing     NaN\n",
       "11  Y-N985spfu2I_520_530  Computer keyboard  Typing  Speech\n",
       "12  Y-NxqVRP5zf8_580_590  Computer keyboard  Typing  Speech\n",
       "13  Y-Q2luSN2Xj4_490_500  Computer keyboard  Typing     NaN\n",
       "14    Y-S6D9Slv13A_10_20  Computer keyboard  Speech     NaN\n",
       "15    Y-VD6if3BpnE_30_40  Computer keyboard  Typing  Speech\n",
       "16  Y-WNELSjjnJc_450_460  Computer keyboard  Typing     NaN\n",
       "17    Y-Y2mUYakV6U_30_40  Computer keyboard  Typing     NaN\n",
       "18  Y-ZJ_0JGR28E_270_280  Computer keyboard  Typing     NaN\n",
       "19    Y-Zj5r422dHw_20_30  Computer keyboard  Typing     NaN"
      ]
     },
     "metadata": {},
     "output_type": "display_data"
    }
   ],
   "source": [
    "display(data.head())\n",
    "display(data.tail())\n",
    "display(data[0:20])"
   ]
  },
  {
   "cell_type": "code",
   "execution_count": 56,
   "id": "b266cfdd-42d9-4e75-8fa4-9473b92a7b78",
   "metadata": {},
   "outputs": [
    {
     "name": "stdout",
     "output_type": "stream",
     "text": [
      "Y-b1bMK154QU_280_290\n"
     ]
    },
    {
     "data": {
      "text/plain": [
       "id        Y-b1bMK154QU_280_290\n",
       "class1       Computer keyboard\n",
       "class2                  Typing\n",
       "class3                  Speech\n",
       "Name: 20, dtype: object"
      ]
     },
     "metadata": {},
     "output_type": "display_data"
    },
    {
     "name": "stdout",
     "output_type": "stream",
     "text": [
      "Y-cKbOLMm0yo_0_10\n"
     ]
    },
    {
     "data": {
      "text/plain": [
       "id        Y-cKbOLMm0yo_0_10\n",
       "class1    Computer keyboard\n",
       "class2               Typing\n",
       "class3                  NaN\n",
       "Name: 21, dtype: object"
      ]
     },
     "metadata": {},
     "output_type": "display_data"
    },
    {
     "name": "stdout",
     "output_type": "stream",
     "text": [
      "Y-dhS0qbpMqM_30_40\n"
     ]
    },
    {
     "data": {
      "text/plain": [
       "id        Y-dhS0qbpMqM_30_40\n",
       "class1     Computer keyboard\n",
       "class2               Sampler\n",
       "class3                 Music\n",
       "Name: 22, dtype: object"
      ]
     },
     "metadata": {},
     "output_type": "display_data"
    },
    {
     "name": "stdout",
     "output_type": "stream",
     "text": [
      "Y-dnyDT9Fzmg_400_410\n"
     ]
    },
    {
     "data": {
      "text/plain": [
       "id        Y-dnyDT9Fzmg_400_410\n",
       "class1       Computer keyboard\n",
       "class2                  Typing\n",
       "class3                     NaN\n",
       "Name: 23, dtype: object"
      ]
     },
     "metadata": {},
     "output_type": "display_data"
    },
    {
     "name": "stdout",
     "output_type": "stream",
     "text": [
      "Y-hRSfJiYfwY_70_80\n"
     ]
    },
    {
     "data": {
      "text/plain": [
       "id        Y-hRSfJiYfwY_70_80\n",
       "class1     Computer keyboard\n",
       "class2                Typing\n",
       "class3                   NaN\n",
       "Name: 24, dtype: object"
      ]
     },
     "metadata": {},
     "output_type": "display_data"
    }
   ],
   "source": [
    "for idx in data.head().index:\n",
    "    item = data.loc[idx+20]\n",
    "    print(item.id)\n",
    "    display(item)"
   ]
  },
  {
   "cell_type": "code",
   "execution_count": 81,
   "id": "6693bc6b-9688-4f74-abf7-852192dea819",
   "metadata": {},
   "outputs": [
    {
     "name": "stdout",
     "output_type": "stream",
     "text": [
      "['-6AOy8GAMpM', '-7OvXNt9sjE', '-8CwWdltmxM', '-8YnBKXbV3Q', '-C3O23xBX4c']\n"
     ]
    }
   ],
   "source": [
    "list_name = data['id'].tolist()\n",
    "list_id = [x[1:12] for x in list_name]\n",
    "print(list_id[:5])"
   ]
  },
  {
   "cell_type": "code",
   "execution_count": 88,
   "id": "ed4135c5-6417-4dae-86b7-c999e44783ce",
   "metadata": {},
   "outputs": [
    {
     "name": "stdout",
     "output_type": "stream",
     "text": [
      "['60', '50', '30', '230', '260']\n",
      "['70', '60', '40', '240', '270']\n"
     ]
    }
   ],
   "source": [
    "list_start = [x.split('_')[-2] for x in list_name]\n",
    "list_end = [x.split('_')[-1] for x in list_name]\n",
    "\n",
    "print(list_start[:5])\n",
    "print(list_end[:5])"
   ]
  },
  {
   "cell_type": "markdown",
   "id": "c4299f93-8b89-4bb2-8264-5806b819a6d6",
   "metadata": {},
   "source": [
    "## Separate Typing Only class"
   ]
  },
  {
   "cell_type": "code",
   "execution_count": 119,
   "id": "0f6a1b88-d6cf-4b33-af00-5f56705af8df",
   "metadata": {},
   "outputs": [
    {
     "name": "stdout",
     "output_type": "stream",
     "text": [
      "Y-b1bMK154QU_280_290\n"
     ]
    },
    {
     "data": {
      "text/plain": [
       "'Speech'"
      ]
     },
     "metadata": {},
     "output_type": "display_data"
    },
    {
     "data": {
      "text/plain": [
       "False"
      ]
     },
     "metadata": {},
     "output_type": "display_data"
    },
    {
     "name": "stdout",
     "output_type": "stream",
     "text": [
      "Y-cKbOLMm0yo_0_10\n"
     ]
    },
    {
     "data": {
      "text/plain": [
       "nan"
      ]
     },
     "metadata": {},
     "output_type": "display_data"
    },
    {
     "data": {
      "text/plain": [
       "True"
      ]
     },
     "metadata": {},
     "output_type": "display_data"
    },
    {
     "name": "stdout",
     "output_type": "stream",
     "text": [
      "Y-dhS0qbpMqM_30_40\n"
     ]
    },
    {
     "data": {
      "text/plain": [
       "'Music'"
      ]
     },
     "metadata": {},
     "output_type": "display_data"
    },
    {
     "data": {
      "text/plain": [
       "False"
      ]
     },
     "metadata": {},
     "output_type": "display_data"
    },
    {
     "name": "stdout",
     "output_type": "stream",
     "text": [
      "Y-dnyDT9Fzmg_400_410\n"
     ]
    },
    {
     "data": {
      "text/plain": [
       "nan"
      ]
     },
     "metadata": {},
     "output_type": "display_data"
    },
    {
     "data": {
      "text/plain": [
       "True"
      ]
     },
     "metadata": {},
     "output_type": "display_data"
    },
    {
     "name": "stdout",
     "output_type": "stream",
     "text": [
      "Y-hRSfJiYfwY_70_80\n"
     ]
    },
    {
     "data": {
      "text/plain": [
       "nan"
      ]
     },
     "metadata": {},
     "output_type": "display_data"
    },
    {
     "data": {
      "text/plain": [
       "True"
      ]
     },
     "metadata": {},
     "output_type": "display_data"
    }
   ],
   "source": [
    "for idx in data.head().index:\n",
    "    item = data.loc[idx+20]\n",
    "    print(item.id)\n",
    "    display(item.class3)\n",
    "    display(type(item.class3) is float and pd.isna(item.class3))\n",
    "    "
   ]
  },
  {
   "cell_type": "code",
   "execution_count": 114,
   "id": "e3f0646d-54b6-4397-acfb-27387c489b0c",
   "metadata": {},
   "outputs": [
    {
     "data": {
      "text/plain": [
       "True"
      ]
     },
     "execution_count": 114,
     "metadata": {},
     "output_type": "execute_result"
    }
   ],
   "source": [
    "x=float('nan')\n",
    "pd.isna(x)"
   ]
  },
  {
   "cell_type": "code",
   "execution_count": null,
   "id": "09780c38-25e7-4764-bb7a-ba973e4f9a84",
   "metadata": {},
   "outputs": [],
   "source": []
  }
 ],
 "metadata": {
  "kernelspec": {
   "display_name": "Python 3",
   "language": "python",
   "name": "python3"
  },
  "language_info": {
   "codemirror_mode": {
    "name": "ipython",
    "version": 3
   },
   "file_extension": ".py",
   "mimetype": "text/x-python",
   "name": "python",
   "nbconvert_exporter": "python",
   "pygments_lexer": "ipython3",
   "version": "3.8.0"
  }
 },
 "nbformat": 4,
 "nbformat_minor": 5
}

{
 "cells": [
  {
   "cell_type": "code",
   "execution_count": 1,
   "id": "a0eb4f78-8ba4-4875-91ab-3a723f9c4a00",
   "metadata": {},
   "outputs": [],
   "source": [
    "import os,glob\n"
   ]
  },
  {
   "cell_type": "code",
   "execution_count": 2,
   "id": "5e1a4f31-790d-4c70-bf4e-7ff8f0ed2dae",
   "metadata": {},
   "outputs": [],
   "source": [
    "import numpy as np"
   ]
  },
  {
   "cell_type": "code",
   "execution_count": 3,
   "id": "3ca7a65a-7b8e-41e4-8ecf-cd60a3a74680",
   "metadata": {},
   "outputs": [],
   "source": [
    "import librosa"
   ]
  },
  {
   "cell_type": "code",
   "execution_count": 4,
   "id": "880d586e-3755-4ff1-87de-352217c919d7",
   "metadata": {},
   "outputs": [],
   "source": [
    "import torch"
   ]
  },
  {
   "cell_type": "code",
   "execution_count": 5,
   "id": "ca25ea0c-1f6d-478d-80ce-668697c1928a",
   "metadata": {},
   "outputs": [],
   "source": [
    "import soundfile as sf"
   ]
  },
  {
   "cell_type": "code",
   "execution_count": 20,
   "id": "9e925728-9b95-49ba-a1f9-3ea8c6a762ff",
   "metadata": {},
   "outputs": [],
   "source": [
    "root_input = '/home/data2/kbh/AVTR/extract/'\n",
    "sr      = 16000\n",
    "n_fft   = 512\n",
    "n_shift = 128\n",
    "n_overlap = n_fft - n_shift\n",
    "n_mels  = 40\n",
    "\n",
    "time_shift = (1/16000)*n_shift\n",
    "\n",
    "n_frame       = 600\n",
    "n_frame_shift = 300\n",
    "\n",
    "mel_basis = librosa.filters.mel(sr=sr, n_fft=n_fft, n_mels=n_mels)"
   ]
  },
  {
   "cell_type": "code",
   "execution_count": 7,
   "id": "4c98c5e7-b7f5-4aba-8d99-6a9e9baa803a",
   "metadata": {},
   "outputs": [],
   "source": [
    "list_data = [x for x in glob.glob(os.path.join(root_input,'wav','*.wav'))]"
   ]
  },
  {
   "cell_type": "code",
   "execution_count": 24,
   "id": "1d514531-0c18-497e-9755-16b01f2091be",
   "metadata": {},
   "outputs": [],
   "source": [
    "def process(idx):\n",
    "    path_target = list_data[idx]\n",
    "    id_data = path_target.split('/')[-1]\n",
    "    id_data = id_data.split('.')[0]\n",
    "    path_label = os.path.join(root_input,'label',id_data+'.npy')\n",
    "   \n",
    "    ## Load\n",
    "    npy_label = np.load(path_label)\n",
    "    raw,_     = librosa.load(path_target,sr=sr)\n",
    "    \n",
    "\n",
    "    ## Data\n",
    "    spec = librosa.stft(raw,window='hann',n_fft=n_fft,hop_length=n_shift, win_length=None,center=True,dtype=np.cdouble)\n",
    "    mel = np.matmul(mel_basis,np.abs(spec))\n",
    "    pt = torch.from_numpy(mel)\n",
    "    \n",
    "    print(np.shape(npy_label))\n",
    "    print(np.shape(mel))\n",
    "\n",
    "    # Label\n",
    "    print(npy_label)\n",
    "    \n",
    "    raw_label = np.zeros(np.shape(mel)[1])\n",
    "    label = np.zeros(np.shape(raw_label))\n",
    "    print(np.shape(raw_label))\n",
    "    \n",
    "    for t_label in npy_label :\n",
    "        idx_start = int(t_label[0]/time_shift)\n",
    "        idx_end = int(t_label[1]/time_shift)\n",
    "        #print(str(idx_start) + ' | ' + str(idx_end))\n",
    "        raw_label[idx_start:idx_end]=1\n",
    "    \n",
    "    # if single shift in frame is activate that block is active\n",
    "    for i in range(len(raw_label)-3):\n",
    "        if raw_label[i] or raw_label[i+1] or raw_label[i+2] or raw_label[i+3] :\n",
    "            label[i]=1\n",
    "    data = {\"mel\":torch.from_numpy(mel), \"label\":torch.from_numpy(label)\n",
    "        \n",
    "    ## save\n",
    "    torch.save(data,'temp.pt')\n",
    "    "
   ]
  },
  {
   "cell_type": "code",
   "execution_count": 25,
   "id": "4d8eb201-0185-4c93-b5e9-8e2d0bf2e9ce",
   "metadata": {},
   "outputs": [
    {
     "name": "stdout",
     "output_type": "stream",
     "text": [
      "(5, 2)\n",
      "(40, 12737)\n",
      "[[  4.653   9.008]\n",
      " [ 18.976  25.509]\n",
      " [ 25.545  30.193]\n",
      " [ 35.165  44.951]\n",
      " [ 95.33  101.528]]\n",
      "(12737,)\n",
      "581 | 1125\n",
      "2372 | 3188\n",
      "3193 | 3774\n",
      "4395 | 5618\n",
      "11916 | 12691\n"
     ]
    }
   ],
   "source": [
    "process(0)"
   ]
  },
  {
   "cell_type": "code",
   "execution_count": 19,
   "id": "0cd62986-d50e-487d-a871-33aa95a06770",
   "metadata": {},
   "outputs": [
    {
     "data": {
      "text/plain": [
       "0.008"
      ]
     },
     "execution_count": 19,
     "metadata": {},
     "output_type": "execute_result"
    }
   ],
   "source": [
    "time_shift"
   ]
  },
  {
   "cell_type": "code",
   "execution_count": 39,
   "id": "111ec350-7e03-4515-8b4c-c46c6bb51718",
   "metadata": {},
   "outputs": [
    {
     "data": {
      "text/plain": [
       "9"
      ]
     },
     "execution_count": 39,
     "metadata": {},
     "output_type": "execute_result"
    }
   ],
   "source": [
    "np.random.seed()\n",
    "np.random.randint(100)\n"
   ]
  },
  {
   "cell_type": "code",
   "execution_count": null,
   "id": "84f68f26-86bd-48e5-8388-3473227ed1b0",
   "metadata": {},
   "outputs": [],
   "source": []
  },
  {
   "cell_type": "code",
   "execution_count": 69,
   "id": "44f5bf8d-de1e-4539-a62a-35adb15602a1",
   "metadata": {},
   "outputs": [
    {
     "data": {
      "text/plain": [
       "array([2, 0])"
      ]
     },
     "execution_count": 69,
     "metadata": {},
     "output_type": "execute_result"
    }
   ],
   "source": [
    "np.random.choice(3,2,replace=False)"
   ]
  },
  {
   "cell_type": "code",
   "execution_count": null,
   "id": "802e8f5c-34e1-4585-889b-1f2916779120",
   "metadata": {},
   "outputs": [],
   "source": []
  }
 ],
 "metadata": {
  "kernelspec": {
   "display_name": "Python 3 (ipykernel)",
   "language": "python",
   "name": "python3"
  },
  "language_info": {
   "codemirror_mode": {
    "name": "ipython",
    "version": 3
   },
   "file_extension": ".py",
   "mimetype": "text/x-python",
   "name": "python",
   "nbconvert_exporter": "python",
   "pygments_lexer": "ipython3",
   "version": "3.9.6"
  }
 },
 "nbformat": 4,
 "nbformat_minor": 5
}

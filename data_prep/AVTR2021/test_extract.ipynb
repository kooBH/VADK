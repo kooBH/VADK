{
 "cells": [
  {
   "cell_type": "code",
   "execution_count": 3,
   "id": "2b07713d-d092-40f6-a9c0-22155b4d80fd",
   "metadata": {},
   "outputs": [],
   "source": [
    "import json\n",
    "with open(\"label.private\", \"r\") as f:\n",
    "    json_object = json.load(f)"
   ]
  },
  {
   "cell_type": "code",
   "execution_count": 2,
   "id": "8884fac9-b058-4d99-accd-79ab0d0db21c",
   "metadata": {},
   "outputs": [
    {
     "data": {
      "text/plain": [
       "231"
      ]
     },
     "execution_count": 2,
     "metadata": {},
     "output_type": "execute_result"
    }
   ],
   "source": [
    "len(json_object)"
   ]
  },
  {
   "cell_type": "code",
   "execution_count": 17,
   "id": "b71e2843-07dc-4ea8-9367-ce3e677f35bd",
   "metadata": {},
   "outputs": [],
   "source": [
    "l = list(json_object.keys())"
   ]
  },
  {
   "cell_type": "code",
   "execution_count": 21,
   "id": "ff572a78-2adf-4581-a9cc-920e417d936b",
   "metadata": {},
   "outputs": [
    {
     "data": {
      "text/plain": [
       "{'nurse': ['2.036~3.549',\n",
       "  '4.841~7.092',\n",
       "  '9.306~10.524',\n",
       "  '13.624~14.953',\n",
       "  '16.761~17.315',\n",
       "  '18.459~18.976',\n",
       "  '21.559~21.928',\n",
       "  '26.135~27.058',\n",
       "  '27.058~30.091',\n",
       "  '37.14~38.727',\n",
       "  '83.698~86.17',\n",
       "  '92.592~94.253'],\n",
       " 'patient': ['8.273~9.306',\n",
       "  '10.524~11.558',\n",
       "  '12.37~13.624',\n",
       "  '14.953~16.761',\n",
       "  '17.315~19.013',\n",
       "  '19.345~21.559',\n",
       "  '22.888~26.135',\n",
       "  '27.782~28.151',\n",
       "  '34.741~36.032',\n",
       "  '86.982~87.61',\n",
       "  '87.61~88.459',\n",
       "  '88.459~90.045',\n",
       "  '90.045~91.632',\n",
       "  '94.253~94.769']}"
      ]
     },
     "execution_count": 21,
     "metadata": {},
     "output_type": "execute_result"
    }
   ],
   "source": [
    "l[0]\n",
    "json_object[l[1]]"
   ]
  },
  {
   "cell_type": "code",
   "execution_count": 22,
   "id": "267b3a3f-37fa-46fc-8360-c384dd478976",
   "metadata": {},
   "outputs": [],
   "source": [
    "n = json_object[l[1]]['nurse']\n",
    "p = json_object[l[1]]['patient']"
   ]
  },
  {
   "cell_type": "code",
   "execution_count": 24,
   "id": "aa23568b-9655-4fa3-8202-1bd95351cfe7",
   "metadata": {},
   "outputs": [
    {
     "data": {
      "text/plain": [
       "['2.036~3.549',\n",
       " '4.841~7.092',\n",
       " '9.306~10.524',\n",
       " '13.624~14.953',\n",
       " '16.761~17.315',\n",
       " '18.459~18.976',\n",
       " '21.559~21.928',\n",
       " '26.135~27.058',\n",
       " '27.058~30.091',\n",
       " '37.14~38.727',\n",
       " '83.698~86.17',\n",
       " '92.592~94.253',\n",
       " '8.273~9.306',\n",
       " '10.524~11.558',\n",
       " '12.37~13.624',\n",
       " '14.953~16.761',\n",
       " '17.315~19.013',\n",
       " '19.345~21.559',\n",
       " '22.888~26.135',\n",
       " '27.782~28.151',\n",
       " '34.741~36.032',\n",
       " '86.982~87.61',\n",
       " '87.61~88.459',\n",
       " '88.459~90.045',\n",
       " '90.045~91.632',\n",
       " '94.253~94.769']"
      ]
     },
     "execution_count": 24,
     "metadata": {},
     "output_type": "execute_result"
    }
   ],
   "source": [
    "n+p"
   ]
  },
  {
   "cell_type": "code",
   "execution_count": 64,
   "id": "b60faf69-5f16-4236-9196-23d31e49e743",
   "metadata": {},
   "outputs": [
    {
     "name": "stdout",
     "output_type": "stream",
     "text": [
      "[['2.036', '3.549'], ['4.841', '7.092'], ['9.306', '10.524'], ['13.624', '14.953'], ['16.761', '17.315'], ['18.459', '18.976'], ['21.559', '21.928'], ['26.135', '27.058'], ['27.058', '30.091'], ['37.14', '38.727'], ['83.698', '86.17'], ['92.592', '94.253'], ['8.273', '9.306'], ['10.524', '11.558'], ['12.37', '13.624'], ['14.953', '16.761'], ['17.315', '19.013'], ['19.345', '21.559'], ['22.888', '26.135'], ['27.782', '28.151'], ['34.741', '36.032'], ['86.982', '87.61'], ['87.61', '88.459'], ['88.459', '90.045'], ['90.045', '91.632'], ['94.253', '94.769']]\n"
     ]
    }
   ],
   "source": [
    "x = n+p\n",
    "x = [ y.split('~') for y in x]\n",
    "print(x)"
   ]
  },
  {
   "cell_type": "code",
   "execution_count": 67,
   "id": "32227ad9-671c-4e90-ad76-597948fd8300",
   "metadata": {},
   "outputs": [
    {
     "name": "stdout",
     "output_type": "stream",
     "text": [
      "[2.036, 3.549]\n",
      "[4.841, 7.092]\n",
      "[8.273, 9.306]\n",
      "[9.306, 10.524]\n",
      "[10.524, 11.558]\n",
      "[12.37, 13.624]\n",
      "[13.624, 14.953]\n",
      "[14.953, 16.761]\n",
      "[16.761, 17.315]\n",
      "[17.315, 19.013]\n",
      "[18.459, 18.976]\n",
      "[19.345, 21.559]\n",
      "[21.559, 21.928]\n",
      "[22.888, 26.135]\n",
      "[26.135, 27.058]\n",
      "[27.058, 30.091]\n",
      "[27.782, 28.151]\n",
      "[34.741, 36.032]\n",
      "[37.14, 38.727]\n",
      "[83.698, 86.17]\n",
      "[86.982, 87.61]\n",
      "[87.61, 88.459]\n",
      "[88.459, 90.045]\n",
      "[90.045, 91.632]\n",
      "[92.592, 94.253]\n",
      "[94.253, 94.769]\n",
      "--------\n",
      "[2.036, 3.549]\n",
      "[4.841, 7.092]\n",
      "[8.273, 11.558]\n",
      "[9.306, 11.558]\n",
      "[10.524, 11.558]\n",
      "[12.37, 18.976]\n",
      "[13.624, 18.976]\n",
      "[14.953, 18.976]\n",
      "[16.761, 18.976]\n",
      "[17.315, 18.976]\n",
      "[18.459, 18.976]\n",
      "[19.345, 21.928]\n",
      "[21.559, 21.928]\n",
      "[22.888, 28.151]\n",
      "[26.135, 28.151]\n",
      "[27.058, 28.151]\n",
      "[27.782, 28.151]\n",
      "[34.741, 36.032]\n",
      "[37.14, 38.727]\n",
      "[83.698, 86.17]\n",
      "[86.982, 91.632]\n",
      "[87.61, 91.632]\n",
      "[88.459, 91.632]\n",
      "[90.045, 91.632]\n",
      "[92.592, 94.769]\n",
      "[94.253, 94.769]\n",
      "--------\n",
      "[2.036, 3.549]\n",
      "[4.841, 7.092]\n",
      "[8.273, 11.558]\n",
      "[12.37, 18.976]\n",
      "[19.345, 21.928]\n",
      "[22.888, 28.151]\n",
      "[34.741, 36.032]\n",
      "[37.14, 38.727]\n",
      "[83.698, 86.17]\n",
      "[86.982, 91.632]\n",
      "[92.592, 94.769]\n"
     ]
    }
   ],
   "source": [
    "y = [[float(z[0]),float(z[1])] for z in x]\n",
    "y.sort(key = lambda z: z[0]) \n",
    "for i in y :\n",
    "    print(i)\n",
    "print('--------')\n",
    "for i in range(len(y)) :\n",
    "    for j in range(i+1,len(y)):\n",
    "        if y[j][0] <= y[i][1] : \n",
    "            y[i][1] = y[j][1]\n",
    "    print(y[i])\n",
    "z = []\n",
    "for i in range(len(y)-1) :\n",
    "    j = len(y)-1-i\n",
    "    if y[j][1] != y[j-1][1] :\n",
    "        z.append(y[j])\n",
    "if y[0][1] != y[1][1] :\n",
    "    z.append(y[0])\n",
    "z.sort(key = lambda t: t[0]) \n",
    "print('--------')\n",
    "\n",
    "for i in z :\n",
    "    print(i)"
   ]
  },
  {
   "cell_type": "markdown",
   "id": "67db073d-03fe-401f-b32c-41d6f8fb3062",
   "metadata": {},
   "source": [
    "## to pt"
   ]
  },
  {
   "cell_type": "code",
   "execution_count": 68,
   "id": "dfea40ad-34ac-4d4a-a52b-8415ca0b8db7",
   "metadata": {},
   "outputs": [],
   "source": [
    "import torch\n",
    "import numpy"
   ]
  },
  {
   "cell_type": "code",
   "execution_count": 73,
   "id": "9ef9883a-f1fb-4f47-b9ee-92ac8efb07cd",
   "metadata": {},
   "outputs": [],
   "source": [
    "nn = numpy.array(z)"
   ]
  },
  {
   "cell_type": "code",
   "execution_count": 74,
   "id": "b0dfbbcb-2425-424c-8035-e6c8eabe4a08",
   "metadata": {},
   "outputs": [],
   "source": [
    "tt = torch.from_numpy(nn)"
   ]
  },
  {
   "cell_type": "code",
   "execution_count": 75,
   "id": "47dc993d-6777-4573-9309-7a5052c8ad4f",
   "metadata": {},
   "outputs": [
    {
     "name": "stdout",
     "output_type": "stream",
     "text": [
      "tensor([[ 2.0360,  3.5490],\n",
      "        [ 4.8410,  7.0920],\n",
      "        [ 8.2730, 11.5580],\n",
      "        [12.3700, 18.9760],\n",
      "        [19.3450, 21.9280],\n",
      "        [22.8880, 28.1510],\n",
      "        [34.7410, 36.0320],\n",
      "        [37.1400, 38.7270],\n",
      "        [83.6980, 86.1700],\n",
      "        [86.9820, 91.6320],\n",
      "        [92.5920, 94.7690]], dtype=torch.float64)\n",
      "torch.Size([11, 2])\n"
     ]
    }
   ],
   "source": [
    "print(tt)\n",
    "print(tt.shape)"
   ]
  },
  {
   "cell_type": "code",
   "execution_count": null,
   "id": "c42f2558-6adc-49b7-99a3-0aeb3afb7eae",
   "metadata": {},
   "outputs": [],
   "source": []
  }
 ],
 "metadata": {
  "kernelspec": {
   "display_name": "Python 3 (ipykernel)",
   "language": "python",
   "name": "python3"
  },
  "language_info": {
   "codemirror_mode": {
    "name": "ipython",
    "version": 3
   },
   "file_extension": ".py",
   "mimetype": "text/x-python",
   "name": "python",
   "nbconvert_exporter": "python",
   "pygments_lexer": "ipython3",
   "version": "3.9.6"
  }
 },
 "nbformat": 4,
 "nbformat_minor": 5
}

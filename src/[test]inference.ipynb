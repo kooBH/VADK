{
 "cells": [
  {
   "cell_type": "markdown",
   "id": "82697975-3980-48ff-bb69-18dab2d8772a",
   "metadata": {},
   "source": [
    "## Package"
   ]
  },
  {
   "cell_type": "code",
   "execution_count": 3,
   "id": "13fd27be-fb2a-46f4-91b8-da2718babfed",
   "metadata": {},
   "outputs": [],
   "source": [
    "import torch\n",
    "import argparse\n",
    "import os,glob\n",
    "import librosa\n",
    "import soundfile as sf\n",
    "import numpy as np\n",
    "from utils.hparams import HParam\n",
    "import torch.multiprocessing as mp\n",
    "from torch.multiprocessing import Pool, Process, set_start_method\n",
    "from models.GPV import GPV"
   ]
  },
  {
   "cell_type": "markdown",
   "id": "e8893dfb-3694-4eaf-8170-00657a793543",
   "metadata": {},
   "source": [
    "## Param"
   ]
  },
  {
   "cell_type": "code",
   "execution_count": 22,
   "id": "4559538e-2614-423e-aa16-9e852c61ac1f",
   "metadata": {},
   "outputs": [],
   "source": [
    "hp = HParam(\"../config/GPV_2.yaml\")\n",
    "chkpt= \"/home/nas/user/kbh/VADK/chkpt/GPV_2/bestmodel.pt\"\n",
    "\n",
    "device = 'cuda:0'\n",
    "torch.cuda.set_device(device)\n",
    "\n",
    "n_mels =40\n",
    "sr = 16000\n",
    "n_fft = 512\n",
    "n_shift = 128\n",
    "\n",
    "\n",
    "num_epochs = 1\n",
    "batch_size = 1\n",
    "\n",
    "mel_basis = librosa.filters.mel(sr=sr, n_fft=n_fft, n_mels=n_mels)\n",
    "\n",
    "path = '/home/nas/DB/[DB]AV-TR/[20211102] AVCV 시뮬레이션(도희준형)/2021-11-02_10-52-33.wav'"
   ]
  },
  {
   "cell_type": "markdown",
   "id": "bbaf143b-2c15-4b5f-ad3e-f9c1d3cca43a",
   "metadata": {},
   "source": [
    "## Run"
   ]
  },
  {
   "cell_type": "code",
   "execution_count": 23,
   "id": "fb0dc339-31d3-4479-9130-5ead78b34596",
   "metadata": {},
   "outputs": [
    {
     "data": {
      "text/plain": [
       "(378880,)"
      ]
     },
     "metadata": {},
     "output_type": "display_data"
    },
    {
     "data": {
      "text/plain": [
       "(257, 2961)"
      ]
     },
     "metadata": {},
     "output_type": "display_data"
    },
    {
     "data": {
      "text/plain": [
       "(40, 2961)"
      ]
     },
     "metadata": {},
     "output_type": "display_data"
    }
   ],
   "source": [
    "model = GPV(hp,inputdim=n_mels).to(device)\n",
    "\n",
    "# Dirs\n",
    "model.load_state_dict(torch.load(chkpt, map_location=device))\n",
    "model.eval()\n",
    "\n",
    "raw, _ = librosa.load(path,sr=sr)\n",
    "display(np.shape(raw))\n",
    "spec = librosa.stft(raw,window='hann',n_fft=n_fft,hop_length=n_shift, win_length=None,center=True,dtype=np.cdouble)\n",
    "display(np.shape(spec))\n",
    "mel = np.matmul(mel_basis,np.abs(spec))\n",
    "display(np.shape(mel))\n",
    "pt = torch.from_numpy(mel)\n",
    "pt = pt.float()\n",
    "pt = torch.unsqueeze(pt,dim=0)\n",
    "pt = pt.cuda()\n",
    "\n",
    "with torch.no_grad():\n",
    "    output = model(pt)"
   ]
  },
  {
   "cell_type": "code",
   "execution_count": 18,
   "id": "b5cb35f9-7378-4297-907b-e05772f839c6",
   "metadata": {},
   "outputs": [
    {
     "data": {
      "text/plain": [
       "torch.Size([20343])"
      ]
     },
     "metadata": {},
     "output_type": "display_data"
    }
   ],
   "source": [
    "output = torch.squeeze(output)\n",
    "display(output.shape)"
   ]
  },
  {
   "cell_type": "markdown",
   "id": "5ccd7de7-3620-41a9-ad8a-e8d34b53e640",
   "metadata": {},
   "source": [
    "## STFT domain label -> wav label"
   ]
  },
  {
   "cell_type": "code",
   "execution_count": 19,
   "id": "9078c776-4d75-4edd-9eec-29a6d59e7bb0",
   "metadata": {},
   "outputs": [],
   "source": [
    "thr = 0.5\n",
    "p =0\n",
    "o = raw\n",
    "for idx in range(len(output)):\n",
    "    if output[idx] < thr :\n",
    "        p +=1\n",
    "        o[(idx-1)*128:idx*128]=0"
   ]
  },
  {
   "cell_type": "code",
   "execution_count": 21,
   "id": "aa059169-1667-428f-aec7-74b9b73d2245",
   "metadata": {},
   "outputs": [],
   "source": [
    "sf.write('out.wav',o,16000)"
   ]
  },
  {
   "cell_type": "code",
   "execution_count": null,
   "id": "a34379e6-c2e1-4f8b-a8c6-f36b13ff1f44",
   "metadata": {},
   "outputs": [],
   "source": []
  }
 ],
 "metadata": {
  "kernelspec": {
   "display_name": "Python 3 (ipykernel)",
   "language": "python",
   "name": "python3"
  },
  "language_info": {
   "codemirror_mode": {
    "name": "ipython",
    "version": 3
   },
   "file_extension": ".py",
   "mimetype": "text/x-python",
   "name": "python",
   "nbconvert_exporter": "python",
   "pygments_lexer": "ipython3",
   "version": "3.8.10"
  }
 },
 "nbformat": 4,
 "nbformat_minor": 5
}

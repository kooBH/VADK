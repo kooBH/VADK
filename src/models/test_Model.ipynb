{
 "cells": [
  {
   "cell_type": "code",
   "execution_count": null,
   "id": "3a32ebec-8e54-48f2-937a-fea020aea1dd",
   "metadata": {},
   "outputs": [],
   "source": [
    "import librosa\n",
    "import IPython.display as ipd\n",
    "# ipd.Audio('audio/conga_groove.wav') # load a local WAV file\n",
    "# ipd.Audio(x, rate=sr) # load a NumPy array\n",
    "import os,glob\n",
    "import numpy as np\n",
    "import torch\n",
    "\n",
    "from matplotlib import cm\n",
    "%matplotlib inline\n",
    "import matplotlib.pyplot as plt\n",
    "import librosa.display"
   ]
  },
  {
   "cell_type": "code",
   "execution_count": null,
   "id": "1a061e38-4ed7-4a99-88c7-5369091257ac",
   "metadata": {},
   "outputs": [],
   "source": [
    "path = '/home/kiosk/dnn2/VADK/train/0.pt'"
   ]
  },
  {
   "cell_type": "code",
   "execution_count": null,
   "id": "11c2673f-994c-44d2-9b8c-74b3e875637f",
   "metadata": {},
   "outputs": [],
   "source": [
    "\n",
    "x = torch.load(path)\n",
    "mel = x['mel']\n",
    "label = x['label']\n",
    "mel = mel.detach().numpy()\n",
    "label = label.detach().numpy()\n",
    "\n",
    "print(np.shape(mel))\n",
    "print(np.shape(label))\n",
    "\n",
    "tmp2 = label * (70)\n",
    "plt.plot(tmp2)\n",
    "\n",
    "eps = 1e-13\n",
    "\n",
    "# dB scale\n",
    "tmp = np.clip(mel,a_min=eps,a_max=None)\n",
    "tmp = 10*np.log10(tmp)\n",
    "tmp = tmp[::-1,:]\n",
    "\n",
    "im = plt.imshow(tmp, cmap=cm.jet, aspect='auto')\n",
    "plt.colorbar(im)\n",
    "plt.clim(-80,20)\n",
    "plt.show()"
   ]
  }
 ],
 "metadata": {
  "kernelspec": {
   "display_name": "Python 3",
   "language": "python",
   "name": "python3"
  },
  "language_info": {
   "codemirror_mode": {
    "name": "ipython",
    "version": 3
   },
   "file_extension": ".py",
   "mimetype": "text/x-python",
   "name": "python",
   "nbconvert_exporter": "python",
   "pygments_lexer": "ipython3",
   "version": "3.8.0"
  }
 },
 "nbformat": 4,
 "nbformat_minor": 5
}

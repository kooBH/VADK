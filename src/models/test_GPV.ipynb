{
 "cells": [
  {
   "cell_type": "code",
   "execution_count": 1,
   "id": "6a0af318-2171-49bf-9fc5-c23e141ef117",
   "metadata": {},
   "outputs": [],
   "source": [
    "from GPV import GPV\n",
    "import torch\n",
    "import torch.nn"
   ]
  },
  {
   "cell_type": "code",
   "execution_count": 2,
   "id": "c0d853d6-d52c-42b6-847e-e5f3ec8ea446",
   "metadata": {},
   "outputs": [],
   "source": [
    "x = torch.rand(1,3,40,960)"
   ]
  },
  {
   "cell_type": "code",
   "execution_count": 3,
   "id": "5e18a981-059c-494e-8437-a8b3a02f2ba6",
   "metadata": {},
   "outputs": [],
   "source": [
    "hp = {}\n",
    "m = GPV(hp,channel_in = 3,inputdim=40,outputdim=1)"
   ]
  },
  {
   "cell_type": "code",
   "execution_count": 4,
   "id": "cc5803b0-5378-4062-b2f5-04cf3f332a46",
   "metadata": {},
   "outputs": [
    {
     "name": "stdout",
     "output_type": "stream",
     "text": [
      "torch.Size([1, 128, 240, 1])\n",
      "torch.Size([1, 1, 960])\n"
     ]
    }
   ],
   "source": [
    "y = m(x)\n",
    "print(y.shape)"
   ]
  },
  {
   "cell_type": "code",
   "execution_count": 5,
   "id": "b4191a65-388d-4f81-a9a6-a6a4c1765f6e",
   "metadata": {},
   "outputs": [
    {
     "name": "stdout",
     "output_type": "stream",
     "text": [
      "torch.Size([2, 240, 480])\n"
     ]
    }
   ],
   "source": [
    "xx = torch.rand(2,240,2)\n",
    "yy = torch.nn.functional.interpolate(xx,(480))\n",
    "print(yy.shape)"
   ]
  },
  {
   "cell_type": "code",
   "execution_count": 6,
   "id": "cb844678-09a4-4f58-995c-4c8b75a06a4d",
   "metadata": {},
   "outputs": [
    {
     "name": "stdout",
     "output_type": "stream",
     "text": [
      "torch.Size([3, 2, 4])\n"
     ]
    }
   ],
   "source": [
    "z = torch.rand(3,2,4)\n",
    "print(z.shape)"
   ]
  }
 ],
 "metadata": {
  "kernelspec": {
   "display_name": "Python 3 (ipykernel)",
   "language": "python",
   "name": "python3"
  },
  "language_info": {
   "codemirror_mode": {
    "name": "ipython",
    "version": 3
   },
   "file_extension": ".py",
   "mimetype": "text/x-python",
   "name": "python",
   "nbconvert_exporter": "python",
   "pygments_lexer": "ipython3",
   "version": "3.8.10"
  }
 },
 "nbformat": 4,
 "nbformat_minor": 5
}

{
 "cells": [
  {
   "cell_type": "code",
   "execution_count": 1,
   "id": "06dc0b99-6527-4f95-8d2f-69400ae302d1",
   "metadata": {},
   "outputs": [],
   "source": [
    "from DGD import DGD\n",
    "import torch\n",
    "import torch.nn"
   ]
  },
  {
   "cell_type": "code",
   "execution_count": 2,
   "id": "35aa330a-a493-4e89-b3fc-ab282aa5c738",
   "metadata": {},
   "outputs": [],
   "source": [
    "x = torch.rand(2,3,40,500)"
   ]
  },
  {
   "cell_type": "code",
   "execution_count": 3,
   "id": "1d0d486c-ed0f-4803-9619-97bfacaddb3a",
   "metadata": {},
   "outputs": [],
   "source": [
    "m = DGD(channel_in = 3, dim_output=1,dim_input=40)"
   ]
  },
  {
   "cell_type": "code",
   "execution_count": 4,
   "id": "1bdceae2-19d9-4920-afd8-043fa8e21923",
   "metadata": {},
   "outputs": [
    {
     "name": "stdout",
     "output_type": "stream",
     "text": [
      "IN   : torch.Size([2, 3, 40, 500])\n",
      "ENC : torch.Size([2, 128, 125, 1])\n",
      "RNN : torch.Size([2, 125, 256])\n",
      "DConv : torch.Size([2, 256, 1, 125])\n",
      "DConv : torch.Size([2, 256, 1, 250])\n",
      "DConv : torch.Size([2, 128, 1, 250])\n",
      "DConv : torch.Size([2, 128, 1, 500])\n",
      "DConv : torch.Size([2, 32, 1, 500])\n",
      "DEC : torch.Size([2, 1, 500])\n",
      "torch.Size([2, 1, 500])\n"
     ]
    }
   ],
   "source": [
    "y = m(x)\n",
    "print(y.shape)"
   ]
  },
  {
   "cell_type": "code",
   "execution_count": null,
   "id": "71487c66-e724-4f73-ab4d-a181785817d4",
   "metadata": {},
   "outputs": [],
   "source": []
  }
 ],
 "metadata": {
  "kernelspec": {
   "display_name": "Python 3 (ipykernel)",
   "language": "python",
   "name": "python3"
  },
  "language_info": {
   "codemirror_mode": {
    "name": "ipython",
    "version": 3
   },
   "file_extension": ".py",
   "mimetype": "text/x-python",
   "name": "python",
   "nbconvert_exporter": "python",
   "pygments_lexer": "ipython3",
   "version": "3.8.10"
  }
 },
 "nbformat": 4,
 "nbformat_minor": 5
}

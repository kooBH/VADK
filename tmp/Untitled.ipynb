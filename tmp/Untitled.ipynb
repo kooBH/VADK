{
 "cells": [
  {
   "cell_type": "code",
   "execution_count": 16,
   "id": "453289b4-539c-4f37-9f86-fdc4b29c68cc",
   "metadata": {},
   "outputs": [
    {
     "name": "stdout",
     "output_type": "stream",
     "text": [
      "--threshold---f1_score---accuracy--\n",
      "|   0.30    |  0.1234 |  0.1242  |\n"
     ]
    }
   ],
   "source": [
    "print('--threshold---f1_score---accuracy--')\n",
    "print('|   {:.2f}    |  {:.4f} |  {:.4f}  |'.format(0.3,0.1234124,0.1242134))"
   ]
  },
  {
   "cell_type": "code",
   "execution_count": 21,
   "id": "f205160f-3b57-473b-9b09-7e5d13b27e42",
   "metadata": {},
   "outputs": [
    {
     "name": "stdout",
     "output_type": "stream",
     "text": [
      "[0.  0.5 1. ]\n",
      "[0.  0.5 1. ]\n",
      "[2 1 0]\n"
     ]
    }
   ],
   "source": [
    "import numpy as np\n",
    "from sklearn import metrics\n",
    "y = np.array([1,0, 0, 1])\n",
    "scores = np.array([0.1, 0.4, 0.35, 0.8])\n",
    "scores = np.array([1, 1, 0, 0])\n",
    "fpr, tpr, thresholds = metrics.roc_curve(y, scores,pos_label=1)\n",
    "\n",
    "print(fpr)\n",
    "print(tpr)\n",
    "print(thresholds)"
   ]
  },
  {
   "cell_type": "code",
   "execution_count": null,
   "id": "762d7334-2f93-4426-94cc-a24f5530c264",
   "metadata": {},
   "outputs": [],
   "source": []
  }
 ],
 "metadata": {
  "kernelspec": {
   "display_name": "Python 3 (ipykernel)",
   "language": "python",
   "name": "python3"
  },
  "language_info": {
   "codemirror_mode": {
    "name": "ipython",
    "version": 3
   },
   "file_extension": ".py",
   "mimetype": "text/x-python",
   "name": "python",
   "nbconvert_exporter": "python",
   "pygments_lexer": "ipython3",
   "version": "3.9.6"
  }
 },
 "nbformat": 4,
 "nbformat_minor": 5
}
